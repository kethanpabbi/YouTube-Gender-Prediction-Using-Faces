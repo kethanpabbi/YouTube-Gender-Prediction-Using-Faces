{
 "cells": [
  {
   "cell_type": "code",
   "execution_count": 1,
   "id": "0825b453-a4ae-49bc-a63c-5db31859338f",
   "metadata": {},
   "outputs": [
    {
     "name": "stdout",
     "output_type": "stream",
     "text": [
      "/home/tk/repos/age-gender\n"
     ]
    }
   ],
   "source": [
    "%cd .."
   ]
  },
  {
   "cell_type": "code",
   "execution_count": 2,
   "id": "a8a996bb-90e5-4441-829a-de72137cc90e",
   "metadata": {},
   "outputs": [],
   "source": [
    "from model.model import ResMLP"
   ]
  },
  {
   "cell_type": "code",
   "execution_count": 272,
   "id": "2368381e-c2d4-4b4f-8226-d1b1a3f850bb",
   "metadata": {},
   "outputs": [
    {
     "name": "stdout",
     "output_type": "stream",
     "text": [
      "Dropout(p=0.0, inplace=False)\n",
      "Dropout(p=0.0, inplace=False)\n",
      "Dropout(p=0.0, inplace=False)\n",
      "Dropout(p=0.0, inplace=False)\n",
      "Dropout(p=0.0, inplace=False)\n",
      "Dropout(p=0.0, inplace=False)\n",
      "Dropout(p=0.0, inplace=False)\n",
      "Dropout(p=0.0, inplace=False)\n",
      "Dropout(p=0.0, inplace=False)\n",
      "Dropout(p=0.0, inplace=False)\n",
      "Dropout(p=0.0, inplace=False)\n",
      "Dropout(p=0.0, inplace=False)\n",
      "Dropout(p=0.0, inplace=False)\n",
      "Dropout(p=0.0, inplace=False)\n",
      "Dropout(p=0.0, inplace=False)\n",
      "Dropout(p=0.0, inplace=False)\n"
     ]
    }
   ],
   "source": [
    "from flask import Flask, request\n",
    "import jsonpickle\n",
    "import logging\n",
    "import numpy as np\n",
    "import io\n",
    "from model.model import ResMLP\n",
    "import torch\n",
    "from utils import read_json, forward_mc, enable_dropout\n",
    "\n",
    "models = {\"age\": None, \"gender\": None}\n",
    "\n",
    "device = \"cpu\"\n",
    "\n",
    "for model_ in [\"age\", \"gender\"]:\n",
    "    config = read_json(f\"./models/{model_}.json\")[\"arch\"][\"args\"]\n",
    "    config[\"dropout\"] = 0.0\n",
    "    model = ResMLP(**config)\n",
    "    checkpoint = f\"models/{model_}.pth\"\n",
    "    checkpoint = torch.load(checkpoint, map_location=torch.device(device))\n",
    "    state_dict = checkpoint[\"state_dict\"]\n",
    "    model.load_state_dict(state_dict)\n",
    "    model.to(device)\n",
    "    model.eval()\n",
    "    enable_dropout(model)\n",
    "\n",
    "    models[model_] = model"
   ]
  },
  {
   "cell_type": "code",
   "execution_count": 327,
   "id": "6707c1f6-4c51-48c9-879b-e56e65468413",
   "metadata": {},
   "outputs": [
    {
     "data": {
      "text/plain": [
       "((50.0, 0.0), (0.0, 0.0))"
      ]
     },
     "execution_count": 327,
     "metadata": {},
     "output_type": "execute_result"
    }
   ],
   "source": [
    "import numpy as np\n",
    "\n",
    "foo = np.random.normal(size=(1, 512))\n",
    "foo /= np.linalg.norm(foo)\n",
    "foo = foo.astype(np.float32)\n",
    "\n",
    "forward_mc(models[\"age\"], foo), forward_mc(models[\"gender\"], foo)"
   ]
  }
 ],
 "metadata": {
  "kernelspec": {
   "display_name": "Python 3",
   "language": "python",
   "name": "python3"
  },
  "language_info": {
   "codemirror_mode": {
    "name": "ipython",
    "version": 3
   },
   "file_extension": ".py",
   "mimetype": "text/x-python",
   "name": "python",
   "nbconvert_exporter": "python",
   "pygments_lexer": "ipython3",
   "version": "3.7.11"
  }
 },
 "nbformat": 4,
 "nbformat_minor": 5
}
