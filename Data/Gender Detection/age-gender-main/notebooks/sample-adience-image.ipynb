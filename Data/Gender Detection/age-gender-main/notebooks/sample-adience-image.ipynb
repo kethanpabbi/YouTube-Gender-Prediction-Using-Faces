{
 "cells": [
  {
   "cell_type": "code",
   "execution_count": 27,
   "id": "66758a8e-7182-4aaf-a218-834a5ac0e120",
   "metadata": {},
   "outputs": [
    {
     "data": {
      "application/vnd.jupyter.widget-view+json": {
       "model_id": "2d93d137964c4104ab879b05e4e0922f",
       "version_major": 2,
       "version_minor": 0
      },
      "text/plain": [
       "HBox(children=(FloatProgress(value=0.0, max=19372.0), HTML(value='')))"
      ]
     },
     "metadata": {},
     "output_type": "display_data"
    },
    {
     "name": "stdout",
     "output_type": "stream",
     "text": [
      "\n"
     ]
    }
   ],
   "source": [
    "from glob import glob\n",
    "from PIL import Image\n",
    "from tqdm.notebook import tqdm\n",
    "\n",
    "img_paths = [\n",
    "    foo\n",
    "    for foo in glob(\"/home/tk/repos/age-gender/data/Adience/aligned/*/*.jpg\")\n",
    "    if \"RESIZED\" not in foo\n",
    "]\n",
    "\n",
    "sizes = []\n",
    "for path in tqdm(img_paths):\n",
    "    image = Image.open(path)\n",
    "    sizes.append(image.size)"
   ]
  },
  {
   "cell_type": "code",
   "execution_count": 29,
   "id": "4d712cbb-2b25-4793-99d0-e87bbd4895f8",
   "metadata": {},
   "outputs": [
    {
     "data": {
      "text/plain": [
       "{(816, 816)}"
      ]
     },
     "execution_count": 29,
     "metadata": {},
     "output_type": "execute_result"
    }
   ],
   "source": [
    "set(sizes)"
   ]
  },
  {
   "cell_type": "code",
   "execution_count": null,
   "id": "e791481c-23a3-4904-8bf8-37297c7a6143",
   "metadata": {},
   "outputs": [],
   "source": [
    "from PIL import Image\n",
    "import io\n",
    "import jsonpickle\n",
    "import requests\n",
    "\n",
    "image = Image.open(\n",
    "    \"/home/tk/Downloads/landmark_aligned_face.2062.8274258418_60a6fe1b01_o.jpg\"\n",
    ")\n",
    "image"
   ]
  },
  {
   "cell_type": "code",
   "execution_count": null,
   "id": "6aedd979-570f-498d-8b21-3e735136d293",
   "metadata": {},
   "outputs": [],
   "source": [
    "binary_image = io.BytesIO()\n",
    "image.save(binary_image, format=\"JPEG\")\n",
    "binary_image = binary_image.getvalue()\n",
    "\n",
    "data = {\"image\": binary_image}\n",
    "data = jsonpickle.encode(data)\n",
    "\n",
    "response = requests.post(\"http://127.0.0.1:10002/\", json=data)\n",
    "response = jsonpickle.decode(response.text)\n",
    "face_detection_recognition = response[\"face_detection_recognition\"]"
   ]
  },
  {
   "cell_type": "code",
   "execution_count": null,
   "id": "62e4857e-b74a-4dfd-8a25-b513832e0d65",
   "metadata": {},
   "outputs": [],
   "source": [
    "from insightface.app.face_analysis import FaceAnalysis as FaceDetectionRecognition"
   ]
  },
  {
   "cell_type": "code",
   "execution_count": null,
   "id": "a8089044-4928-44e9-a09b-81b24295bf45",
   "metadata": {},
   "outputs": [],
   "source": [
    "fdr = FaceDetectionRecognition(\n",
    "    det_name=\"retinaface_r50_v1\", rec_name=\"arcface_r100_v1\", ga_name=None\n",
    ")"
   ]
  },
  {
   "cell_type": "code",
   "execution_count": null,
   "id": "6a197847-f064-4197-b6c1-e6002e70fe4d",
   "metadata": {},
   "outputs": [],
   "source": [
    "fdr.prepare(-1)"
   ]
  },
  {
   "cell_type": "code",
   "execution_count": 10,
   "id": "d451c05a-a894-489e-bf6b-770c1c7e3917",
   "metadata": {},
   "outputs": [],
   "source": [
    "import numpy as np\n",
    "\n",
    "list_of_features, _img = fdr.get(np.array(image))"
   ]
  },
  {
   "cell_type": "code",
   "execution_count": 18,
   "id": "81180d87-356d-4f43-a4d6-f39c3138a505",
   "metadata": {},
   "outputs": [],
   "source": [
    "image = Image.fromarray(_img)\n",
    "image.save(\n",
    "    \"/home/tk/Downloads/landmark_aligned_face.2062.8274258418_60a6fe1b01_o.jpg.TRANSFORMED.jpg\",\n",
    "    \"JPEG\",\n",
    ")"
   ]
  }
 ],
 "metadata": {
  "kernelspec": {
   "display_name": "Python 3",
   "language": "python",
   "name": "python3"
  },
  "language_info": {
   "codemirror_mode": {
    "name": "ipython",
    "version": 3
   },
   "file_extension": ".py",
   "mimetype": "text/x-python",
   "name": "python",
   "nbconvert_exporter": "python",
   "pygments_lexer": "ipython3",
   "version": "3.7.11"
  }
 },
 "nbformat": 4,
 "nbformat_minor": 5
}
