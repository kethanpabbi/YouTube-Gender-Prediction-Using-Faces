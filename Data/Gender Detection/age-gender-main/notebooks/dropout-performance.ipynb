{
 "cells": [
  {
   "cell_type": "code",
   "execution_count": 1,
   "id": "f103e041-a217-447f-8050-c45a4d928414",
   "metadata": {},
   "outputs": [
    {
     "name": "stdout",
     "output_type": "stream",
     "text": [
      "/home/tk/repos/age-gender\n"
     ]
    }
   ],
   "source": [
    "%cd ../"
   ]
  },
  {
   "cell_type": "code",
   "execution_count": 2,
   "id": "50aabd36-b04a-40e3-86f8-1c96afac98d4",
   "metadata": {},
   "outputs": [
    {
     "data": {
      "application/vnd.jupyter.widget-view+json": {
       "model_id": "7a0911ce93dc4e939c281047579593b3",
       "version_major": 2,
       "version_minor": 0
      },
      "text/plain": [
       "HBox(children=(FloatProgress(value=0.0, max=25.0), HTML(value='')))"
      ]
     },
     "metadata": {},
     "output_type": "display_data"
    },
    {
     "name": "stdout",
     "output_type": "stream",
     "text": [
      "Dropout(p=0.05, inplace=False)\n",
      "Dropout(p=0.05, inplace=False)\n",
      "Dropout(p=0.05, inplace=False)\n",
      "Dropout(p=0.05, inplace=False)\n",
      "Dropout(p=0.05, inplace=False)\n"
     ]
    },
    {
     "data": {
      "application/vnd.jupyter.widget-view+json": {
       "model_id": "0b2e9a752913469595fde3d37ad9f9f8",
       "version_major": 2,
       "version_minor": 0
      },
      "text/plain": [
       "HBox(children=(FloatProgress(value=1.0, bar_style='info', layout=Layout(width='20px'), max=1.0), HTML(value=''…"
      ]
     },
     "metadata": {},
     "output_type": "display_data"
    },
    {
     "name": "stdout",
     "output_type": "stream",
     "text": [
      "\n",
      "0.6548313466903373\n",
      "Dropout(p=0.05, inplace=False)\n",
      "Dropout(p=0.05, inplace=False)\n",
      "Dropout(p=0.05, inplace=False)\n",
      "Dropout(p=0.05, inplace=False)\n",
      "Dropout(p=0.05, inplace=False)\n"
     ]
    },
    {
     "data": {
      "application/vnd.jupyter.widget-view+json": {
       "model_id": "8085b42f96b044c0bd77811c6295cc8e",
       "version_major": 2,
       "version_minor": 0
      },
      "text/plain": [
       "HBox(children=(FloatProgress(value=1.0, bar_style='info', layout=Layout(width='20px'), max=1.0), HTML(value=''…"
      ]
     },
     "metadata": {},
     "output_type": "display_data"
    },
    {
     "name": "stdout",
     "output_type": "stream",
     "text": [
      "\n",
      "0.5879840546697038\n",
      "Dropout(p=0.05, inplace=False)\n",
      "Dropout(p=0.05, inplace=False)\n",
      "Dropout(p=0.05, inplace=False)\n",
      "Dropout(p=0.05, inplace=False)\n",
      "Dropout(p=0.05, inplace=False)\n"
     ]
    },
    {
     "data": {
      "application/vnd.jupyter.widget-view+json": {
       "model_id": "918e16ccbcc641c0920e305a0dae1ef0",
       "version_major": 2,
       "version_minor": 0
      },
      "text/plain": [
       "HBox(children=(FloatProgress(value=1.0, bar_style='info', layout=Layout(width='20px'), max=1.0), HTML(value=''…"
      ]
     },
     "metadata": {},
     "output_type": "display_data"
    },
    {
     "name": "stdout",
     "output_type": "stream",
     "text": [
      "\n",
      "0.6079338842975207\n",
      "Dropout(p=0.05, inplace=False)\n",
      "Dropout(p=0.05, inplace=False)\n",
      "Dropout(p=0.05, inplace=False)\n",
      "Dropout(p=0.05, inplace=False)\n",
      "Dropout(p=0.05, inplace=False)\n"
     ]
    },
    {
     "data": {
      "application/vnd.jupyter.widget-view+json": {
       "model_id": "1ac42e093a904ec5b6db5ebf4456ff7c",
       "version_major": 2,
       "version_minor": 0
      },
      "text/plain": [
       "HBox(children=(FloatProgress(value=1.0, bar_style='info', layout=Layout(width='20px'), max=1.0), HTML(value=''…"
      ]
     },
     "metadata": {},
     "output_type": "display_data"
    },
    {
     "name": "stdout",
     "output_type": "stream",
     "text": [
      "\n",
      "0.5966101694915255\n",
      "Dropout(p=0.05, inplace=False)\n",
      "Dropout(p=0.05, inplace=False)\n",
      "Dropout(p=0.05, inplace=False)\n",
      "Dropout(p=0.05, inplace=False)\n",
      "Dropout(p=0.05, inplace=False)\n"
     ]
    },
    {
     "data": {
      "application/vnd.jupyter.widget-view+json": {
       "model_id": "55841dfcef994027a2b6440138243d4f",
       "version_major": 2,
       "version_minor": 0
      },
      "text/plain": [
       "HBox(children=(FloatProgress(value=1.0, bar_style='info', layout=Layout(width='20px'), max=1.0), HTML(value=''…"
      ]
     },
     "metadata": {},
     "output_type": "display_data"
    },
    {
     "name": "stdout",
     "output_type": "stream",
     "text": [
      "\n",
      "0.5855855855855856\n",
      "Dropout(p=0.05, inplace=False)\n",
      "Dropout(p=0.05, inplace=False)\n",
      "Dropout(p=0.05, inplace=False)\n",
      "Dropout(p=0.05, inplace=False)\n",
      "Dropout(p=0.05, inplace=False)\n"
     ]
    },
    {
     "data": {
      "application/vnd.jupyter.widget-view+json": {
       "model_id": "ec6856cd74ce473abe8115d0acd7b216",
       "version_major": 2,
       "version_minor": 0
      },
      "text/plain": [
       "HBox(children=(FloatProgress(value=1.0, bar_style='info', layout=Layout(width='20px'), max=1.0), HTML(value=''…"
      ]
     },
     "metadata": {},
     "output_type": "display_data"
    },
    {
     "name": "stdout",
     "output_type": "stream",
     "text": [
      "\n",
      "0.631752472736495\n",
      "Dropout(p=0.05, inplace=False)\n",
      "Dropout(p=0.05, inplace=False)\n",
      "Dropout(p=0.05, inplace=False)\n",
      "Dropout(p=0.05, inplace=False)\n",
      "Dropout(p=0.05, inplace=False)\n"
     ]
    },
    {
     "data": {
      "application/vnd.jupyter.widget-view+json": {
       "model_id": "212f1ab08a0248339b357baba5d2e60f",
       "version_major": 2,
       "version_minor": 0
      },
      "text/plain": [
       "HBox(children=(FloatProgress(value=1.0, bar_style='info', layout=Layout(width='20px'), max=1.0), HTML(value=''…"
      ]
     },
     "metadata": {},
     "output_type": "display_data"
    },
    {
     "name": "stdout",
     "output_type": "stream",
     "text": [
      "\n",
      "0.5677676537585421\n",
      "Dropout(p=0.05, inplace=False)\n",
      "Dropout(p=0.05, inplace=False)\n",
      "Dropout(p=0.05, inplace=False)\n",
      "Dropout(p=0.05, inplace=False)\n",
      "Dropout(p=0.05, inplace=False)\n"
     ]
    },
    {
     "data": {
      "application/vnd.jupyter.widget-view+json": {
       "model_id": "26b2861b401d4f6fac70dedbe3812594",
       "version_major": 2,
       "version_minor": 0
      },
      "text/plain": [
       "HBox(children=(FloatProgress(value=1.0, bar_style='info', layout=Layout(width='20px'), max=1.0), HTML(value=''…"
      ]
     },
     "metadata": {},
     "output_type": "display_data"
    },
    {
     "name": "stdout",
     "output_type": "stream",
     "text": [
      "\n",
      "0.6039669421487603\n",
      "Dropout(p=0.05, inplace=False)\n",
      "Dropout(p=0.05, inplace=False)\n",
      "Dropout(p=0.05, inplace=False)\n",
      "Dropout(p=0.05, inplace=False)\n",
      "Dropout(p=0.05, inplace=False)\n"
     ]
    },
    {
     "data": {
      "application/vnd.jupyter.widget-view+json": {
       "model_id": "5e3b8d6453b5469288e4ab42ec075460",
       "version_major": 2,
       "version_minor": 0
      },
      "text/plain": [
       "HBox(children=(FloatProgress(value=1.0, bar_style='info', layout=Layout(width='20px'), max=1.0), HTML(value=''…"
      ]
     },
     "metadata": {},
     "output_type": "display_data"
    },
    {
     "name": "stdout",
     "output_type": "stream",
     "text": [
      "\n",
      "0.5870570107858244\n",
      "Dropout(p=0.05, inplace=False)\n",
      "Dropout(p=0.05, inplace=False)\n",
      "Dropout(p=0.05, inplace=False)\n",
      "Dropout(p=0.05, inplace=False)\n",
      "Dropout(p=0.05, inplace=False)\n"
     ]
    },
    {
     "data": {
      "application/vnd.jupyter.widget-view+json": {
       "model_id": "7ba211ff0b9249ada4610734d0cb1e17",
       "version_major": 2,
       "version_minor": 0
      },
      "text/plain": [
       "HBox(children=(FloatProgress(value=1.0, bar_style='info', layout=Layout(width='20px'), max=1.0), HTML(value=''…"
      ]
     },
     "metadata": {},
     "output_type": "display_data"
    },
    {
     "name": "stdout",
     "output_type": "stream",
     "text": [
      "\n",
      "0.6018018018018018\n",
      "Dropout(p=0.05, inplace=False)\n",
      "Dropout(p=0.05, inplace=False)\n",
      "Dropout(p=0.05, inplace=False)\n",
      "Dropout(p=0.05, inplace=False)\n",
      "Dropout(p=0.05, inplace=False)\n"
     ]
    },
    {
     "data": {
      "application/vnd.jupyter.widget-view+json": {
       "model_id": "a45cc8d2acb44d579fcdfcca241139c4",
       "version_major": 2,
       "version_minor": 0
      },
      "text/plain": [
       "HBox(children=(FloatProgress(value=1.0, bar_style='info', layout=Layout(width='20px'), max=1.0), HTML(value=''…"
      ]
     },
     "metadata": {},
     "output_type": "display_data"
    },
    {
     "name": "stdout",
     "output_type": "stream",
     "text": [
      "\n",
      "0.635049454729901\n",
      "Dropout(p=0.05, inplace=False)\n",
      "Dropout(p=0.05, inplace=False)\n",
      "Dropout(p=0.05, inplace=False)\n",
      "Dropout(p=0.05, inplace=False)\n",
      "Dropout(p=0.05, inplace=False)\n"
     ]
    },
    {
     "data": {
      "application/vnd.jupyter.widget-view+json": {
       "model_id": "230d886a9a71464593eb1c2443ae55ce",
       "version_major": 2,
       "version_minor": 0
      },
      "text/plain": [
       "HBox(children=(FloatProgress(value=1.0, bar_style='info', layout=Layout(width='20px'), max=1.0), HTML(value=''…"
      ]
     },
     "metadata": {},
     "output_type": "display_data"
    },
    {
     "name": "stdout",
     "output_type": "stream",
     "text": [
      "\n",
      "0.5794419134396356\n",
      "Dropout(p=0.05, inplace=False)\n",
      "Dropout(p=0.05, inplace=False)\n",
      "Dropout(p=0.05, inplace=False)\n",
      "Dropout(p=0.05, inplace=False)\n",
      "Dropout(p=0.05, inplace=False)\n"
     ]
    },
    {
     "data": {
      "application/vnd.jupyter.widget-view+json": {
       "model_id": "429f3a1e2c5e477b97d0ad618bcf0bf4",
       "version_major": 2,
       "version_minor": 0
      },
      "text/plain": [
       "HBox(children=(FloatProgress(value=1.0, bar_style='info', layout=Layout(width='20px'), max=1.0), HTML(value=''…"
      ]
     },
     "metadata": {},
     "output_type": "display_data"
    },
    {
     "name": "stdout",
     "output_type": "stream",
     "text": [
      "\n",
      "0.604297520661157\n",
      "Dropout(p=0.05, inplace=False)\n",
      "Dropout(p=0.05, inplace=False)\n",
      "Dropout(p=0.05, inplace=False)\n",
      "Dropout(p=0.05, inplace=False)\n",
      "Dropout(p=0.05, inplace=False)\n"
     ]
    },
    {
     "data": {
      "application/vnd.jupyter.widget-view+json": {
       "model_id": "a0ee7a62c3274c259e201487f4cab663",
       "version_major": 2,
       "version_minor": 0
      },
      "text/plain": [
       "HBox(children=(FloatProgress(value=1.0, bar_style='info', layout=Layout(width='20px'), max=1.0), HTML(value=''…"
      ]
     },
     "metadata": {},
     "output_type": "display_data"
    },
    {
     "name": "stdout",
     "output_type": "stream",
     "text": [
      "\n",
      "0.5950693374422188\n",
      "Dropout(p=0.05, inplace=False)\n",
      "Dropout(p=0.05, inplace=False)\n",
      "Dropout(p=0.05, inplace=False)\n",
      "Dropout(p=0.05, inplace=False)\n",
      "Dropout(p=0.05, inplace=False)\n"
     ]
    },
    {
     "data": {
      "application/vnd.jupyter.widget-view+json": {
       "model_id": "156c6ba62f3b420e8010858878a49e52",
       "version_major": 2,
       "version_minor": 0
      },
      "text/plain": [
       "HBox(children=(FloatProgress(value=1.0, bar_style='info', layout=Layout(width='20px'), max=1.0), HTML(value=''…"
      ]
     },
     "metadata": {},
     "output_type": "display_data"
    },
    {
     "name": "stdout",
     "output_type": "stream",
     "text": [
      "\n",
      "0.5858858858858859\n",
      "Dropout(p=0.05, inplace=False)\n",
      "Dropout(p=0.05, inplace=False)\n",
      "Dropout(p=0.05, inplace=False)\n",
      "Dropout(p=0.05, inplace=False)\n",
      "Dropout(p=0.05, inplace=False)\n"
     ]
    },
    {
     "data": {
      "application/vnd.jupyter.widget-view+json": {
       "model_id": "a07e885a66b94383b845c4694b9c82e1",
       "version_major": 2,
       "version_minor": 0
      },
      "text/plain": [
       "HBox(children=(FloatProgress(value=1.0, bar_style='info', layout=Layout(width='20px'), max=1.0), HTML(value=''…"
      ]
     },
     "metadata": {},
     "output_type": "display_data"
    },
    {
     "name": "stdout",
     "output_type": "stream",
     "text": [
      "\n",
      "0.645194014709612\n",
      "Dropout(p=0.05, inplace=False)\n",
      "Dropout(p=0.05, inplace=False)\n",
      "Dropout(p=0.05, inplace=False)\n",
      "Dropout(p=0.05, inplace=False)\n",
      "Dropout(p=0.05, inplace=False)\n"
     ]
    },
    {
     "data": {
      "application/vnd.jupyter.widget-view+json": {
       "model_id": "22c61a5aa15248ccaf1a79d653e45edb",
       "version_major": 2,
       "version_minor": 0
      },
      "text/plain": [
       "HBox(children=(FloatProgress(value=1.0, bar_style='info', layout=Layout(width='20px'), max=1.0), HTML(value=''…"
      ]
     },
     "metadata": {},
     "output_type": "display_data"
    },
    {
     "name": "stdout",
     "output_type": "stream",
     "text": [
      "\n",
      "0.5805808656036446\n",
      "Dropout(p=0.05, inplace=False)\n",
      "Dropout(p=0.05, inplace=False)\n",
      "Dropout(p=0.05, inplace=False)\n",
      "Dropout(p=0.05, inplace=False)\n",
      "Dropout(p=0.05, inplace=False)\n"
     ]
    },
    {
     "data": {
      "application/vnd.jupyter.widget-view+json": {
       "model_id": "9be9afc527a6460b858eeb584a8c4436",
       "version_major": 2,
       "version_minor": 0
      },
      "text/plain": [
       "HBox(children=(FloatProgress(value=1.0, bar_style='info', layout=Layout(width='20px'), max=1.0), HTML(value=''…"
      ]
     },
     "metadata": {},
     "output_type": "display_data"
    },
    {
     "name": "stdout",
     "output_type": "stream",
     "text": [
      "\n",
      "0.6\n",
      "Dropout(p=0.05, inplace=False)\n",
      "Dropout(p=0.05, inplace=False)\n",
      "Dropout(p=0.05, inplace=False)\n",
      "Dropout(p=0.05, inplace=False)\n",
      "Dropout(p=0.05, inplace=False)\n"
     ]
    },
    {
     "data": {
      "application/vnd.jupyter.widget-view+json": {
       "model_id": "8b08713f47d547f585946731ccdf2fbe",
       "version_major": 2,
       "version_minor": 0
      },
      "text/plain": [
       "HBox(children=(FloatProgress(value=1.0, bar_style='info', layout=Layout(width='20px'), max=1.0), HTML(value=''…"
      ]
     },
     "metadata": {},
     "output_type": "display_data"
    },
    {
     "name": "stdout",
     "output_type": "stream",
     "text": [
      "\n",
      "0.5852080123266564\n",
      "Dropout(p=0.05, inplace=False)\n",
      "Dropout(p=0.05, inplace=False)\n",
      "Dropout(p=0.05, inplace=False)\n",
      "Dropout(p=0.05, inplace=False)\n",
      "Dropout(p=0.05, inplace=False)\n"
     ]
    },
    {
     "data": {
      "application/vnd.jupyter.widget-view+json": {
       "model_id": "4d1c5ed100944d2f9a614a315066693b",
       "version_major": 2,
       "version_minor": 0
      },
      "text/plain": [
       "HBox(children=(FloatProgress(value=1.0, bar_style='info', layout=Layout(width='20px'), max=1.0), HTML(value=''…"
      ]
     },
     "metadata": {},
     "output_type": "display_data"
    },
    {
     "name": "stdout",
     "output_type": "stream",
     "text": [
      "\n",
      "0.581081081081081\n",
      "Dropout(p=0.05, inplace=False)\n",
      "Dropout(p=0.05, inplace=False)\n",
      "Dropout(p=0.05, inplace=False)\n",
      "Dropout(p=0.05, inplace=False)\n",
      "Dropout(p=0.05, inplace=False)\n"
     ]
    },
    {
     "data": {
      "application/vnd.jupyter.widget-view+json": {
       "model_id": "c3368e3c03c6413cbc27e5e0b04a81d6",
       "version_major": 2,
       "version_minor": 0
      },
      "text/plain": [
       "HBox(children=(FloatProgress(value=1.0, bar_style='info', layout=Layout(width='20px'), max=1.0), HTML(value=''…"
      ]
     },
     "metadata": {},
     "output_type": "display_data"
    },
    {
     "name": "stdout",
     "output_type": "stream",
     "text": [
      "\n",
      "0.642911488714177\n",
      "Dropout(p=0.05, inplace=False)\n",
      "Dropout(p=0.05, inplace=False)\n",
      "Dropout(p=0.05, inplace=False)\n",
      "Dropout(p=0.05, inplace=False)\n",
      "Dropout(p=0.05, inplace=False)\n"
     ]
    },
    {
     "data": {
      "application/vnd.jupyter.widget-view+json": {
       "model_id": "d45ade15325d4db9be4566a2ae8a1065",
       "version_major": 2,
       "version_minor": 0
      },
      "text/plain": [
       "HBox(children=(FloatProgress(value=1.0, bar_style='info', layout=Layout(width='20px'), max=1.0), HTML(value=''…"
      ]
     },
     "metadata": {},
     "output_type": "display_data"
    },
    {
     "name": "stdout",
     "output_type": "stream",
     "text": [
      "\n",
      "0.5700455580865603\n",
      "Dropout(p=0.05, inplace=False)\n",
      "Dropout(p=0.05, inplace=False)\n",
      "Dropout(p=0.05, inplace=False)\n",
      "Dropout(p=0.05, inplace=False)\n",
      "Dropout(p=0.05, inplace=False)\n"
     ]
    },
    {
     "data": {
      "application/vnd.jupyter.widget-view+json": {
       "model_id": "c47209e30b8240dcb5b59d1e8875ef7a",
       "version_major": 2,
       "version_minor": 0
      },
      "text/plain": [
       "HBox(children=(FloatProgress(value=1.0, bar_style='info', layout=Layout(width='20px'), max=1.0), HTML(value=''…"
      ]
     },
     "metadata": {},
     "output_type": "display_data"
    },
    {
     "name": "stdout",
     "output_type": "stream",
     "text": [
      "\n",
      "0.5973553719008264\n",
      "Dropout(p=0.05, inplace=False)\n",
      "Dropout(p=0.05, inplace=False)\n",
      "Dropout(p=0.05, inplace=False)\n",
      "Dropout(p=0.05, inplace=False)\n",
      "Dropout(p=0.05, inplace=False)\n"
     ]
    },
    {
     "data": {
      "application/vnd.jupyter.widget-view+json": {
       "model_id": "8f24dd602e924530a508673e91633507",
       "version_major": 2,
       "version_minor": 0
      },
      "text/plain": [
       "HBox(children=(FloatProgress(value=1.0, bar_style='info', layout=Layout(width='20px'), max=1.0), HTML(value=''…"
      ]
     },
     "metadata": {},
     "output_type": "display_data"
    },
    {
     "name": "stdout",
     "output_type": "stream",
     "text": [
      "\n",
      "0.5916795069337443\n",
      "Dropout(p=0.05, inplace=False)\n",
      "Dropout(p=0.05, inplace=False)\n",
      "Dropout(p=0.05, inplace=False)\n",
      "Dropout(p=0.05, inplace=False)\n",
      "Dropout(p=0.05, inplace=False)\n"
     ]
    },
    {
     "data": {
      "application/vnd.jupyter.widget-view+json": {
       "model_id": "20189d7406f54f099e9f9c003ec85b62",
       "version_major": 2,
       "version_minor": 0
      },
      "text/plain": [
       "HBox(children=(FloatProgress(value=1.0, bar_style='info', layout=Layout(width='20px'), max=1.0), HTML(value=''…"
      ]
     },
     "metadata": {},
     "output_type": "display_data"
    },
    {
     "name": "stdout",
     "output_type": "stream",
     "text": [
      "\n",
      "0.5888888888888889\n",
      "\n"
     ]
    }
   ],
   "source": [
    "from model.model import ResMLP\n",
    "from glob import glob\n",
    "from utils import read_json, forward_mc, enable_dropout\n",
    "import torch\n",
    "from tqdm.notebook import tqdm\n",
    "import data_loader.data_loaders as module_data\n",
    "from torch.cuda.amp import autocast  # for float16 mixed point precision\n",
    "import numpy as np\n",
    "import torch.nn.functional as F\n",
    "\n",
    "\n",
    "device = \"cpu\"\n",
    "if torch.cuda.is_available():\n",
    "    device = \"cuda:0\"\n",
    "\n",
    "path = \"./training-results/age-101-add-residual-true-add-ic-true/cross-val/pre-trained/models/ResMLP/*/*.json\"\n",
    "\n",
    "acc_all = []\n",
    "for path_to_config in tqdm(sorted(glob(path))):\n",
    "    path_to_model = path_to_config.replace(\"config.json\", \"model_best.pth\")\n",
    "\n",
    "    config = read_json(path_to_config)\n",
    "    model = ResMLP(**config[\"arch\"][\"args\"])\n",
    "    checkpoint = torch.load(path_to_model, map_location=torch.device(device))\n",
    "    state_dict = checkpoint[\"state_dict\"]\n",
    "    model.load_state_dict(state_dict)\n",
    "    model.to(device)\n",
    "    model.eval()\n",
    "    enable_dropout(model)\n",
    "\n",
    "    data_loader = getattr(module_data, config[\"data_loader\"][\"type\"])(\n",
    "        data_dir=config[\"data_loader\"][\"args\"][\"data_dir\"],\n",
    "        batch_size=1,\n",
    "        shuffle=False,\n",
    "        validation_split=0.0,\n",
    "        num_workers=config[\"data_loader\"][\"args\"][\"num_workers\"],\n",
    "        dataset=config[\"data_loader\"][\"args\"][\"dataset\"],\n",
    "        num_classes=config[\"data_loader\"][\"args\"][\"num_classes\"],\n",
    "        test_cross_val=config[\"data_loader\"][\"args\"][\"test_cross_val\"],\n",
    "        training=False,\n",
    "    )\n",
    "\n",
    "    acc = 0\n",
    "    with torch.no_grad():\n",
    "        for i, (data, target) in tqdm(enumerate(data_loader)):\n",
    "            data, target = data.to(device), target.to(device)\n",
    "            data = data.repeat(512, 1)\n",
    "\n",
    "            if config[\"amp\"]:\n",
    "                with autocast():\n",
    "                    output = model(data)\n",
    "            else:\n",
    "                output = model(data)\n",
    "\n",
    "            output = F.softmax(output, dim=1).mean(dim=0).argmax()\n",
    "            #             output = F.softmax(output, dim=1)\n",
    "            #             output = output.detach().cpu().numpy()\n",
    "\n",
    "            #             preds = np.argmax(output, axis=1)\n",
    "\n",
    "            if (\n",
    "                target.detach().cpu().numpy().item()\n",
    "                == output.detach().cpu().numpy().item()\n",
    "            ):\n",
    "                acc += 1\n",
    "\n",
    "    acc = acc / len(data_loader)\n",
    "    print(acc)\n",
    "    acc_all.append(acc)"
   ]
  },
  {
   "cell_type": "code",
   "execution_count": 5,
   "id": "cdba5349-5e3e-4d89-a2f1-49ca21a38f12",
   "metadata": {},
   "outputs": [
    {
     "data": {
      "text/plain": [
       "0.6003191928948034"
      ]
     },
     "execution_count": 5,
     "metadata": {},
     "output_type": "execute_result"
    }
   ],
   "source": [
    "np.mean(acc_all)"
   ]
  },
  {
   "cell_type": "code",
   "execution_count": null,
   "id": "4384bc15-2c82-49a8-8bde-fd9463921fc2",
   "metadata": {},
   "outputs": [],
   "source": []
  }
 ],
 "metadata": {
  "kernelspec": {
   "display_name": "Python 3",
   "language": "python",
   "name": "python3"
  },
  "language_info": {
   "codemirror_mode": {
    "name": "ipython",
    "version": 3
   },
   "file_extension": ".py",
   "mimetype": "text/x-python",
   "name": "python",
   "nbconvert_exporter": "python",
   "pygments_lexer": "ipython3",
   "version": "3.7.11"
  }
 },
 "nbformat": 4,
 "nbformat_minor": 5
}
