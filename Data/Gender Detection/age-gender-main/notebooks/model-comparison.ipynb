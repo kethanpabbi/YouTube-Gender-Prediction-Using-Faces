{
 "cells": [
  {
   "cell_type": "code",
   "execution_count": 1,
   "id": "unavailable-observation",
   "metadata": {},
   "outputs": [
    {
     "name": "stdout",
     "output_type": "stream",
     "text": [
      "/home/tk/repos/age-gender\n"
     ]
    }
   ],
   "source": [
    "%cd ../"
   ]
  },
  {
   "cell_type": "code",
   "execution_count": 2,
   "id": "spatial-three",
   "metadata": {},
   "outputs": [],
   "source": [
    "from model.model import ResMLP\n",
    "from pprint import pprint\n",
    "import json\n",
    "\n",
    "\n",
    "def read_json(path):\n",
    "    with open(path, \"r\") as stream:\n",
    "        loaded = json.load(stream)\n",
    "    return loaded"
   ]
  },
  {
   "cell_type": "markdown",
   "id": "appointed-sculpture",
   "metadata": {},
   "source": [
    "## MLP with IC, 2 class gender"
   ]
  },
  {
   "cell_type": "code",
   "execution_count": 5,
   "id": "aware-things",
   "metadata": {},
   "outputs": [
    {
     "name": "stdout",
     "output_type": "stream",
     "text": [
      "877602\n",
      "{'add_IC': True,\n",
      " 'add_residual': True,\n",
      " 'dropout': 0.05,\n",
      " 'num_blocks': 4,\n",
      " 'num_classes': 2,\n",
      " 'num_initial_features': 512,\n",
      " 'num_residuals_per_block': 1}\n"
     ]
    },
    {
     "data": {
      "text/plain": [
       "ResMLP(\n",
       "  (blocks): Sequential(\n",
       "    (0): Residual(\n",
       "      (linear1): Linear(in_features=512, out_features=512, bias=True)\n",
       "      (relu1): ReLU()\n",
       "      (norm_layer2): BatchNorm1d(512, eps=1e-05, momentum=0.1, affine=True, track_running_stats=True)\n",
       "      (dropout2): Dropout(p=0.05, inplace=False)\n",
       "      (linear2): Linear(in_features=512, out_features=512, bias=True)\n",
       "      (relu2): ReLU()\n",
       "    )\n",
       "    (1): DownSample(\n",
       "      (norm_layer): BatchNorm1d(512, eps=1e-05, momentum=0.1, affine=True, track_running_stats=True)\n",
       "      (dropout): Dropout(p=0.05, inplace=False)\n",
       "      (linear): Linear(in_features=512, out_features=256, bias=True)\n",
       "      (relu): ReLU()\n",
       "    )\n",
       "    (2): Residual(\n",
       "      (norm_layer1): BatchNorm1d(256, eps=1e-05, momentum=0.1, affine=True, track_running_stats=True)\n",
       "      (dropout1): Dropout(p=0.05, inplace=False)\n",
       "      (linear1): Linear(in_features=256, out_features=256, bias=True)\n",
       "      (relu1): ReLU()\n",
       "      (norm_layer2): BatchNorm1d(256, eps=1e-05, momentum=0.1, affine=True, track_running_stats=True)\n",
       "      (dropout2): Dropout(p=0.05, inplace=False)\n",
       "      (linear2): Linear(in_features=256, out_features=256, bias=True)\n",
       "      (relu2): ReLU()\n",
       "    )\n",
       "    (3): DownSample(\n",
       "      (norm_layer): BatchNorm1d(256, eps=1e-05, momentum=0.1, affine=True, track_running_stats=True)\n",
       "      (dropout): Dropout(p=0.05, inplace=False)\n",
       "      (linear): Linear(in_features=256, out_features=128, bias=True)\n",
       "      (relu): ReLU()\n",
       "    )\n",
       "    (4): Residual(\n",
       "      (norm_layer1): BatchNorm1d(128, eps=1e-05, momentum=0.1, affine=True, track_running_stats=True)\n",
       "      (dropout1): Dropout(p=0.05, inplace=False)\n",
       "      (linear1): Linear(in_features=128, out_features=128, bias=True)\n",
       "      (relu1): ReLU()\n",
       "      (norm_layer2): BatchNorm1d(128, eps=1e-05, momentum=0.1, affine=True, track_running_stats=True)\n",
       "      (dropout2): Dropout(p=0.05, inplace=False)\n",
       "      (linear2): Linear(in_features=128, out_features=128, bias=True)\n",
       "      (relu2): ReLU()\n",
       "    )\n",
       "    (5): DownSample(\n",
       "      (norm_layer): BatchNorm1d(128, eps=1e-05, momentum=0.1, affine=True, track_running_stats=True)\n",
       "      (dropout): Dropout(p=0.05, inplace=False)\n",
       "      (linear): Linear(in_features=128, out_features=64, bias=True)\n",
       "      (relu): ReLU()\n",
       "    )\n",
       "    (6): Residual(\n",
       "      (norm_layer1): BatchNorm1d(64, eps=1e-05, momentum=0.1, affine=True, track_running_stats=True)\n",
       "      (dropout1): Dropout(p=0.05, inplace=False)\n",
       "      (linear1): Linear(in_features=64, out_features=64, bias=True)\n",
       "      (relu1): ReLU()\n",
       "      (norm_layer2): BatchNorm1d(64, eps=1e-05, momentum=0.1, affine=True, track_running_stats=True)\n",
       "      (dropout2): Dropout(p=0.05, inplace=False)\n",
       "      (linear2): Linear(in_features=64, out_features=64, bias=True)\n",
       "      (relu2): ReLU()\n",
       "    )\n",
       "    (7): DownSample(\n",
       "      (norm_layer): BatchNorm1d(64, eps=1e-05, momentum=0.1, affine=True, track_running_stats=True)\n",
       "      (dropout): Dropout(p=0.05, inplace=False)\n",
       "      (linear): Linear(in_features=64, out_features=32, bias=True)\n",
       "      (relu): ReLU()\n",
       "    )\n",
       "    (8): Linear(in_features=32, out_features=2, bias=True)\n",
       "  )\n",
       ")"
      ]
     },
     "execution_count": 5,
     "metadata": {},
     "output_type": "execute_result"
    }
   ],
   "source": [
    "config_path = \"./training-results/gender-add-residual-true-add-ic-true/training/imdb-wiki-adience/models/ResMLP/0806_111344/config.json\"\n",
    "config = read_json(config_path)\n",
    "\n",
    "model = ResMLP(**config[\"arch\"][\"args\"])\n",
    "pprint(sum(p.numel() for p in model.parameters()))\n",
    "pprint(config[\"arch\"][\"args\"])\n",
    "model"
   ]
  },
  {
   "cell_type": "markdown",
   "id": "visible-heart",
   "metadata": {},
   "source": [
    "## plain MLP, 2 class gender"
   ]
  },
  {
   "cell_type": "code",
   "execution_count": 6,
   "id": "swedish-edinburgh",
   "metadata": {
    "tags": []
   },
   "outputs": [
    {
     "name": "stdout",
     "output_type": "stream",
     "text": [
      "872866\n",
      "{'add_IC': False,\n",
      " 'add_residual': False,\n",
      " 'dropout': 0.05,\n",
      " 'num_blocks': 4,\n",
      " 'num_classes': 2,\n",
      " 'num_initial_features': 512,\n",
      " 'num_residuals_per_block': 1}\n"
     ]
    },
    {
     "data": {
      "text/plain": [
       "ResMLP(\n",
       "  (blocks): Sequential(\n",
       "    (0): Residual(\n",
       "      (linear1): Linear(in_features=512, out_features=512, bias=True)\n",
       "      (relu1): ReLU()\n",
       "      (linear2): Linear(in_features=512, out_features=512, bias=True)\n",
       "      (relu2): ReLU()\n",
       "    )\n",
       "    (1): DownSample(\n",
       "      (linear): Linear(in_features=512, out_features=256, bias=True)\n",
       "      (relu): ReLU()\n",
       "    )\n",
       "    (2): Residual(\n",
       "      (linear1): Linear(in_features=256, out_features=256, bias=True)\n",
       "      (relu1): ReLU()\n",
       "      (linear2): Linear(in_features=256, out_features=256, bias=True)\n",
       "      (relu2): ReLU()\n",
       "    )\n",
       "    (3): DownSample(\n",
       "      (linear): Linear(in_features=256, out_features=128, bias=True)\n",
       "      (relu): ReLU()\n",
       "    )\n",
       "    (4): Residual(\n",
       "      (linear1): Linear(in_features=128, out_features=128, bias=True)\n",
       "      (relu1): ReLU()\n",
       "      (linear2): Linear(in_features=128, out_features=128, bias=True)\n",
       "      (relu2): ReLU()\n",
       "    )\n",
       "    (5): DownSample(\n",
       "      (linear): Linear(in_features=128, out_features=64, bias=True)\n",
       "      (relu): ReLU()\n",
       "    )\n",
       "    (6): Residual(\n",
       "      (linear1): Linear(in_features=64, out_features=64, bias=True)\n",
       "      (relu1): ReLU()\n",
       "      (linear2): Linear(in_features=64, out_features=64, bias=True)\n",
       "      (relu2): ReLU()\n",
       "    )\n",
       "    (7): DownSample(\n",
       "      (linear): Linear(in_features=64, out_features=32, bias=True)\n",
       "      (relu): ReLU()\n",
       "    )\n",
       "    (8): Linear(in_features=32, out_features=2, bias=True)\n",
       "  )\n",
       ")"
      ]
     },
     "execution_count": 6,
     "metadata": {},
     "output_type": "execute_result"
    }
   ],
   "source": [
    "config_path = \"./training-results/gender-add-residual-false-add-ic-false/training/imdb-wiki-adience/models/ResMLP/0806_143330/config.json\"\n",
    "config = read_json(config_path)\n",
    "\n",
    "model = ResMLP(**config[\"arch\"][\"args\"])\n",
    "pprint(sum(p.numel() for p in model.parameters()))\n",
    "pprint(config[\"arch\"][\"args\"])\n",
    "model"
   ]
  },
  {
   "cell_type": "markdown",
   "id": "golden-editor",
   "metadata": {},
   "source": [
    "## MLP with IC, 8 class age"
   ]
  },
  {
   "cell_type": "code",
   "execution_count": 7,
   "id": "introductory-monkey",
   "metadata": {
    "tags": []
   },
   "outputs": [
    {
     "name": "stdout",
     "output_type": "stream",
     "text": [
      "825736\n",
      "{'add_IC': True,\n",
      " 'add_residual': True,\n",
      " 'dropout': 0.05,\n",
      " 'num_blocks': 2,\n",
      " 'num_classes': 8,\n",
      " 'num_initial_features': 512,\n",
      " 'num_residuals_per_block': 1}\n"
     ]
    },
    {
     "data": {
      "text/plain": [
       "ResMLP(\n",
       "  (blocks): Sequential(\n",
       "    (0): Residual(\n",
       "      (linear1): Linear(in_features=512, out_features=512, bias=True)\n",
       "      (relu1): ReLU()\n",
       "      (norm_layer2): BatchNorm1d(512, eps=1e-05, momentum=0.1, affine=True, track_running_stats=True)\n",
       "      (dropout2): Dropout(p=0.05, inplace=False)\n",
       "      (linear2): Linear(in_features=512, out_features=512, bias=True)\n",
       "      (relu2): ReLU()\n",
       "    )\n",
       "    (1): DownSample(\n",
       "      (norm_layer): BatchNorm1d(512, eps=1e-05, momentum=0.1, affine=True, track_running_stats=True)\n",
       "      (dropout): Dropout(p=0.05, inplace=False)\n",
       "      (linear): Linear(in_features=512, out_features=256, bias=True)\n",
       "      (relu): ReLU()\n",
       "    )\n",
       "    (2): Residual(\n",
       "      (norm_layer1): BatchNorm1d(256, eps=1e-05, momentum=0.1, affine=True, track_running_stats=True)\n",
       "      (dropout1): Dropout(p=0.05, inplace=False)\n",
       "      (linear1): Linear(in_features=256, out_features=256, bias=True)\n",
       "      (relu1): ReLU()\n",
       "      (norm_layer2): BatchNorm1d(256, eps=1e-05, momentum=0.1, affine=True, track_running_stats=True)\n",
       "      (dropout2): Dropout(p=0.05, inplace=False)\n",
       "      (linear2): Linear(in_features=256, out_features=256, bias=True)\n",
       "      (relu2): ReLU()\n",
       "    )\n",
       "    (3): DownSample(\n",
       "      (norm_layer): BatchNorm1d(256, eps=1e-05, momentum=0.1, affine=True, track_running_stats=True)\n",
       "      (dropout): Dropout(p=0.05, inplace=False)\n",
       "      (linear): Linear(in_features=256, out_features=128, bias=True)\n",
       "      (relu): ReLU()\n",
       "    )\n",
       "    (4): Linear(in_features=128, out_features=8, bias=True)\n",
       "  )\n",
       ")"
      ]
     },
     "execution_count": 7,
     "metadata": {},
     "output_type": "execute_result"
    }
   ],
   "source": [
    "config_path = \"./training-results/age-8-add-residual-true-add-ic-true/training/imdb-wiki-adience/models/ResMLP/0806_102733/config.json\"\n",
    "config = read_json(config_path)\n",
    "\n",
    "model = ResMLP(**config[\"arch\"][\"args\"])\n",
    "pprint(sum(p.numel() for p in model.parameters()))\n",
    "pprint(config[\"arch\"][\"args\"])\n",
    "model"
   ]
  },
  {
   "cell_type": "markdown",
   "id": "emotional-restoration",
   "metadata": {},
   "source": [
    "## plain MLP, 8 class age"
   ]
  },
  {
   "cell_type": "code",
   "execution_count": 8,
   "id": "deluxe-brown",
   "metadata": {
    "tags": []
   },
   "outputs": [
    {
     "name": "stdout",
     "output_type": "stream",
     "text": [
      "822152\n",
      "{'add_IC': False,\n",
      " 'add_residual': False,\n",
      " 'dropout': 0.05,\n",
      " 'num_blocks': 2,\n",
      " 'num_classes': 8,\n",
      " 'num_initial_features': 512,\n",
      " 'num_residuals_per_block': 1}\n"
     ]
    },
    {
     "data": {
      "text/plain": [
       "ResMLP(\n",
       "  (blocks): Sequential(\n",
       "    (0): Residual(\n",
       "      (linear1): Linear(in_features=512, out_features=512, bias=True)\n",
       "      (relu1): ReLU()\n",
       "      (linear2): Linear(in_features=512, out_features=512, bias=True)\n",
       "      (relu2): ReLU()\n",
       "    )\n",
       "    (1): DownSample(\n",
       "      (linear): Linear(in_features=512, out_features=256, bias=True)\n",
       "      (relu): ReLU()\n",
       "    )\n",
       "    (2): Residual(\n",
       "      (linear1): Linear(in_features=256, out_features=256, bias=True)\n",
       "      (relu1): ReLU()\n",
       "      (linear2): Linear(in_features=256, out_features=256, bias=True)\n",
       "      (relu2): ReLU()\n",
       "    )\n",
       "    (3): DownSample(\n",
       "      (linear): Linear(in_features=256, out_features=128, bias=True)\n",
       "      (relu): ReLU()\n",
       "    )\n",
       "    (4): Linear(in_features=128, out_features=8, bias=True)\n",
       "  )\n",
       ")"
      ]
     },
     "execution_count": 8,
     "metadata": {},
     "output_type": "execute_result"
    }
   ],
   "source": [
    "config_path = \"./training-results/age-8-add-residual-false-add-ic-false/training/imdb-wiki-adience/models/ResMLP/0805_164830/config.json\"\n",
    "config = read_json(config_path)\n",
    "\n",
    "model = ResMLP(**config[\"arch\"][\"args\"])\n",
    "pprint(sum(p.numel() for p in model.parameters()))\n",
    "pprint(config[\"arch\"][\"args\"])\n",
    "model"
   ]
  },
  {
   "cell_type": "markdown",
   "id": "partial-permit",
   "metadata": {},
   "source": [
    "## MLP with IC, 101 class age"
   ]
  },
  {
   "cell_type": "code",
   "execution_count": 9,
   "id": "junior-disclosure",
   "metadata": {},
   "outputs": [
    {
     "name": "stdout",
     "output_type": "stream",
     "text": [
      "837733\n",
      "{'add_IC': True,\n",
      " 'add_residual': True,\n",
      " 'dropout': 0.05,\n",
      " 'num_blocks': 2,\n",
      " 'num_classes': 101,\n",
      " 'num_initial_features': 512,\n",
      " 'num_residuals_per_block': 1}\n"
     ]
    },
    {
     "data": {
      "text/plain": [
       "ResMLP(\n",
       "  (blocks): Sequential(\n",
       "    (0): Residual(\n",
       "      (linear1): Linear(in_features=512, out_features=512, bias=True)\n",
       "      (relu1): ReLU()\n",
       "      (norm_layer2): BatchNorm1d(512, eps=1e-05, momentum=0.1, affine=True, track_running_stats=True)\n",
       "      (dropout2): Dropout(p=0.05, inplace=False)\n",
       "      (linear2): Linear(in_features=512, out_features=512, bias=True)\n",
       "      (relu2): ReLU()\n",
       "    )\n",
       "    (1): DownSample(\n",
       "      (norm_layer): BatchNorm1d(512, eps=1e-05, momentum=0.1, affine=True, track_running_stats=True)\n",
       "      (dropout): Dropout(p=0.05, inplace=False)\n",
       "      (linear): Linear(in_features=512, out_features=256, bias=True)\n",
       "      (relu): ReLU()\n",
       "    )\n",
       "    (2): Residual(\n",
       "      (norm_layer1): BatchNorm1d(256, eps=1e-05, momentum=0.1, affine=True, track_running_stats=True)\n",
       "      (dropout1): Dropout(p=0.05, inplace=False)\n",
       "      (linear1): Linear(in_features=256, out_features=256, bias=True)\n",
       "      (relu1): ReLU()\n",
       "      (norm_layer2): BatchNorm1d(256, eps=1e-05, momentum=0.1, affine=True, track_running_stats=True)\n",
       "      (dropout2): Dropout(p=0.05, inplace=False)\n",
       "      (linear2): Linear(in_features=256, out_features=256, bias=True)\n",
       "      (relu2): ReLU()\n",
       "    )\n",
       "    (3): DownSample(\n",
       "      (norm_layer): BatchNorm1d(256, eps=1e-05, momentum=0.1, affine=True, track_running_stats=True)\n",
       "      (dropout): Dropout(p=0.05, inplace=False)\n",
       "      (linear): Linear(in_features=256, out_features=128, bias=True)\n",
       "      (relu): ReLU()\n",
       "    )\n",
       "    (4): Linear(in_features=128, out_features=101, bias=True)\n",
       "  )\n",
       ")"
      ]
     },
     "execution_count": 9,
     "metadata": {},
     "output_type": "execute_result"
    }
   ],
   "source": [
    "config_path = \"./training-results/age-101-add-residual-true-add-ic-true/training/imdb-wiki-adience/models/ResMLP/0804_130630/config.json\"\n",
    "config = read_json(config_path)\n",
    "\n",
    "model = ResMLP(**config[\"arch\"][\"args\"])\n",
    "pprint(sum(p.numel() for p in model.parameters()))\n",
    "pprint(config[\"arch\"][\"args\"])\n",
    "model"
   ]
  },
  {
   "cell_type": "markdown",
   "id": "atomic-georgia",
   "metadata": {},
   "source": [
    "## plain MLP, 101 class age"
   ]
  },
  {
   "cell_type": "code",
   "execution_count": 10,
   "id": "competent-daily",
   "metadata": {},
   "outputs": [
    {
     "name": "stdout",
     "output_type": "stream",
     "text": [
      "834149\n",
      "{'add_IC': False,\n",
      " 'add_residual': False,\n",
      " 'dropout': 0.05,\n",
      " 'num_blocks': 2,\n",
      " 'num_classes': 101,\n",
      " 'num_initial_features': 512,\n",
      " 'num_residuals_per_block': 1}\n"
     ]
    },
    {
     "data": {
      "text/plain": [
       "ResMLP(\n",
       "  (blocks): Sequential(\n",
       "    (0): Residual(\n",
       "      (linear1): Linear(in_features=512, out_features=512, bias=True)\n",
       "      (relu1): ReLU()\n",
       "      (linear2): Linear(in_features=512, out_features=512, bias=True)\n",
       "      (relu2): ReLU()\n",
       "    )\n",
       "    (1): DownSample(\n",
       "      (linear): Linear(in_features=512, out_features=256, bias=True)\n",
       "      (relu): ReLU()\n",
       "    )\n",
       "    (2): Residual(\n",
       "      (linear1): Linear(in_features=256, out_features=256, bias=True)\n",
       "      (relu1): ReLU()\n",
       "      (linear2): Linear(in_features=256, out_features=256, bias=True)\n",
       "      (relu2): ReLU()\n",
       "    )\n",
       "    (3): DownSample(\n",
       "      (linear): Linear(in_features=256, out_features=128, bias=True)\n",
       "      (relu): ReLU()\n",
       "    )\n",
       "    (4): Linear(in_features=128, out_features=101, bias=True)\n",
       "  )\n",
       ")"
      ]
     },
     "execution_count": 10,
     "metadata": {},
     "output_type": "execute_result"
    }
   ],
   "source": [
    "config_path = \"./training-results/age-101-add-residual-false-add-ic-false/training/imdb-wiki-adience/models/ResMLP/0804_225547/config.json\"\n",
    "config = read_json(config_path)\n",
    "\n",
    "model = ResMLP(**config[\"arch\"][\"args\"])\n",
    "pprint(sum(p.numel() for p in model.parameters()))\n",
    "pprint(config[\"arch\"][\"args\"])\n",
    "model"
   ]
  }
 ],
 "metadata": {
  "interpreter": {
   "hash": "d5b36006495443554c8f0b17d9dc9f4d7cde294ee6cd3212b90a3ec2903a7e92"
  },
  "kernelspec": {
   "display_name": "Python 3",
   "language": "python",
   "name": "python3"
  },
  "language_info": {
   "codemirror_mode": {
    "name": "ipython",
    "version": 3
   },
   "file_extension": ".py",
   "mimetype": "text/x-python",
   "name": "python",
   "nbconvert_exporter": "python",
   "pygments_lexer": "ipython3",
   "version": "3.7.11"
  }
 },
 "nbformat": 4,
 "nbformat_minor": 5
}
