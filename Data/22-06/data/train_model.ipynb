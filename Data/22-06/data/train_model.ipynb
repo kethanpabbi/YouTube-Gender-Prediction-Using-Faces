{
 "cells": [
  {
   "cell_type": "code",
   "execution_count": 1,
   "metadata": {},
   "outputs": [],
   "source": [
    "import numpy as np  # Data manipulation\n",
    "import pandas as pd # Dataframe manipulation \n",
    "import matplotlib.pyplot as plt # Plotting the data and the results\n",
    "import matplotlib.image as mpimg # For displaying imagees\n",
    "%matplotlib inline\n",
    "from keras import models\n",
    "from keras import layers\n",
    "import keras.preprocessing  as kp\n",
    "from keras.preprocessing.image import ImageDataGenerator\n",
    "from keras import regularizers\n",
    "from keras import optimizers"
   ]
  },
  {
   "cell_type": "code",
   "execution_count": 2,
   "metadata": {},
   "outputs": [],
   "source": [
    "train_datagen = ImageDataGenerator( # Data Augumentation for test data\n",
    "rescale=1./255,\n",
    "rotation_range=30,\n",
    "shear_range=0.3,\n",
    "zoom_range=0.3\n",
    ")\n",
    "\n",
    "test_datagen = ImageDataGenerator(rescale=1./255)"
   ]
  },
  {
   "cell_type": "code",
   "execution_count": 3,
   "metadata": {},
   "outputs": [
    {
     "name": "stdout",
     "output_type": "stream",
     "text": [
      "Found 160000 images belonging to 2 classes.\n"
     ]
    }
   ],
   "source": [
    "train_gen=train_datagen.flow_from_directory('/Users/kethanpabbi/Downloads/Dataset/Train',\n",
    "                                            target_size=(250,250),\n",
    "                                            batch_size=48,\n",
    "                                            class_mode='binary')"
   ]
  },
  {
   "cell_type": "code",
   "execution_count": 4,
   "metadata": {},
   "outputs": [
    {
     "name": "stdout",
     "output_type": "stream",
     "text": [
      "Found 22598 images belonging to 2 classes.\n"
     ]
    }
   ],
   "source": [
    "valid_gen=test_datagen.flow_from_directory('/Users/kethanpabbi/Downloads/Dataset/Validation',\n",
    "                                           target_size=(250,250),\n",
    "                                           batch_size=48,\n",
    "                                           class_mode='binary')"
   ]
  },
  {
   "cell_type": "code",
   "execution_count": 5,
   "metadata": {},
   "outputs": [],
   "source": [
    "kernel_s=(3,3)"
   ]
  },
  {
   "cell_type": "code",
   "execution_count": 6,
   "metadata": {},
   "outputs": [
    {
     "name": "stdout",
     "output_type": "stream",
     "text": [
      "Model: \"sequential\"\n",
      "_________________________________________________________________\n",
      " Layer (type)                Output Shape              Param #   \n",
      "=================================================================\n",
      " conv2d (Conv2D)             (None, 248, 248, 32)      896       \n",
      "                                                                 \n",
      " max_pooling2d (MaxPooling2D  (None, 124, 124, 32)     0         \n",
      " )                                                               \n",
      "                                                                 \n",
      " conv2d_1 (Conv2D)           (None, 122, 122, 64)      18496     \n",
      "                                                                 \n",
      " max_pooling2d_1 (MaxPooling  (None, 61, 61, 64)       0         \n",
      " 2D)                                                             \n",
      "                                                                 \n",
      " conv2d_2 (Conv2D)           (None, 59, 59, 64)        36928     \n",
      "                                                                 \n",
      " max_pooling2d_2 (MaxPooling  (None, 29, 29, 64)       0         \n",
      " 2D)                                                             \n",
      "                                                                 \n",
      " conv2d_3 (Conv2D)           (None, 27, 27, 128)       73856     \n",
      "                                                                 \n",
      " max_pooling2d_3 (MaxPooling  (None, 13, 13, 128)      0         \n",
      " 2D)                                                             \n",
      "                                                                 \n",
      " conv2d_4 (Conv2D)           (None, 11, 11, 128)       147584    \n",
      "                                                                 \n",
      " max_pooling2d_4 (MaxPooling  (None, 5, 5, 128)        0         \n",
      " 2D)                                                             \n",
      "                                                                 \n",
      " flatten (Flatten)           (None, 3200)              0         \n",
      "                                                                 \n",
      " dense (Dense)               (None, 256)               819456    \n",
      "                                                                 \n",
      " dense_1 (Dense)             (None, 1)                 257       \n",
      "                                                                 \n",
      "=================================================================\n",
      "Total params: 1,097,473\n",
      "Trainable params: 1,097,473\n",
      "Non-trainable params: 0\n",
      "_________________________________________________________________\n"
     ]
    },
    {
     "name": "stderr",
     "output_type": "stream",
     "text": [
      "2022-06-21 11:41:26.931354: I tensorflow/core/platform/cpu_feature_guard.cc:151] This TensorFlow binary is optimized with oneAPI Deep Neural Network Library (oneDNN) to use the following CPU instructions in performance-critical operations:  AVX2 FMA\n",
      "To enable them in other operations, rebuild TensorFlow with the appropriate compiler flags.\n"
     ]
    }
   ],
   "source": [
    "model=models.Sequential()\n",
    "model.add(layers.Conv2D(32,kernel_s,activation='relu',input_shape=(250,250,3),\n",
    "                        kernel_regularizer=regularizers.l2(0.001),padding=\"VALID\"))\n",
    "model.add(layers.MaxPooling2D((2,2)))\n",
    "\n",
    "model.add(layers.Conv2D(64,kernel_s,activation='relu'))\n",
    "model.add(layers.MaxPooling2D((2,2)))\n",
    "model.add(layers.Conv2D(64,kernel_s,activation='relu'))\n",
    "model.add(layers.MaxPooling2D((2,2)))\n",
    "\n",
    "model.add(layers.Conv2D(128,kernel_s,activation='relu'))\n",
    "model.add(layers.MaxPooling2D((2,2)))\n",
    "model.add(layers.Conv2D(128,kernel_s,activation='relu'))\n",
    "model.add(layers.MaxPooling2D((2,2)))\n",
    "\n",
    "model.add(layers.Flatten())\n",
    "model.add(layers.Dense(256,activation='relu'))\n",
    "model.add(layers.Dense(1,activation='sigmoid'))\n",
    "model.summary()"
   ]
  },
  {
   "cell_type": "code",
   "execution_count": 7,
   "metadata": {},
   "outputs": [],
   "source": [
    "model.compile(optimizer='rmsprop',loss='binary_crossentropy',metrics=['acc'])"
   ]
  },
  {
   "cell_type": "code",
   "execution_count": 8,
   "metadata": {},
   "outputs": [
    {
     "name": "stdout",
     "output_type": "stream",
     "text": [
      "Epoch 1/30\n",
      "70/70 [==============================] - 136s 2s/step - loss: 0.7552 - acc: 0.5839 - val_loss: 0.6617 - val_acc: 0.6263\n",
      "Epoch 2/30\n",
      "70/70 [==============================] - 134s 2s/step - loss: 0.6307 - acc: 0.6479 - val_loss: 0.5298 - val_acc: 0.7404\n",
      "Epoch 3/30\n",
      "70/70 [==============================] - 132s 2s/step - loss: 0.5160 - acc: 0.7521 - val_loss: 0.4524 - val_acc: 0.7896\n",
      "Epoch 4/30\n",
      "70/70 [==============================] - 131s 2s/step - loss: 0.4133 - acc: 0.8143 - val_loss: 0.2975 - val_acc: 0.8800\n",
      "Epoch 5/30\n",
      "70/70 [==============================] - 130s 2s/step - loss: 0.3684 - acc: 0.8372 - val_loss: 0.3067 - val_acc: 0.8612\n",
      "Epoch 6/30\n",
      "70/70 [==============================] - 130s 2s/step - loss: 0.3180 - acc: 0.8670 - val_loss: 0.2314 - val_acc: 0.9117\n",
      "Epoch 7/30\n",
      "70/70 [==============================] - 133s 2s/step - loss: 0.3111 - acc: 0.8664 - val_loss: 0.3957 - val_acc: 0.8225\n",
      "Epoch 8/30\n",
      "70/70 [==============================] - 130s 2s/step - loss: 0.2841 - acc: 0.8830 - val_loss: 0.2013 - val_acc: 0.9221\n",
      "Epoch 9/30\n",
      "70/70 [==============================] - 130s 2s/step - loss: 0.2739 - acc: 0.8842 - val_loss: 0.1688 - val_acc: 0.9329\n",
      "Epoch 10/30\n",
      "70/70 [==============================] - 130s 2s/step - loss: 0.2561 - acc: 0.8988 - val_loss: 0.1955 - val_acc: 0.9254\n",
      "Epoch 11/30\n",
      "70/70 [==============================] - 135s 2s/step - loss: 0.2467 - acc: 0.8982 - val_loss: 0.1847 - val_acc: 0.9267\n",
      "Epoch 12/30\n",
      "70/70 [==============================] - 137s 2s/step - loss: 0.2162 - acc: 0.9196 - val_loss: 0.1660 - val_acc: 0.9383\n",
      "Epoch 13/30\n",
      "70/70 [==============================] - 131s 2s/step - loss: 0.2373 - acc: 0.9042 - val_loss: 0.2005 - val_acc: 0.9154\n",
      "Epoch 14/30\n",
      "70/70 [==============================] - 131s 2s/step - loss: 0.2281 - acc: 0.9092 - val_loss: 0.1327 - val_acc: 0.9471\n",
      "Epoch 15/30\n",
      "70/70 [==============================] - 128s 2s/step - loss: 0.2015 - acc: 0.9190 - val_loss: 0.1538 - val_acc: 0.9467\n",
      "Epoch 16/30\n",
      "70/70 [==============================] - 155s 2s/step - loss: 0.2182 - acc: 0.9167 - val_loss: 0.1915 - val_acc: 0.9292\n",
      "Epoch 17/30\n",
      "70/70 [==============================] - 130s 2s/step - loss: 0.2068 - acc: 0.9137 - val_loss: 0.4031 - val_acc: 0.8729\n",
      "Epoch 18/30\n",
      "70/70 [==============================] - 129s 2s/step - loss: 0.2171 - acc: 0.9065 - val_loss: 0.1334 - val_acc: 0.9513\n",
      "Epoch 19/30\n",
      "70/70 [==============================] - 129s 2s/step - loss: 0.2013 - acc: 0.9187 - val_loss: 0.1877 - val_acc: 0.9237\n",
      "Epoch 20/30\n",
      "70/70 [==============================] - 132s 2s/step - loss: 0.1921 - acc: 0.9265 - val_loss: 0.1321 - val_acc: 0.9525\n",
      "Epoch 21/30\n",
      "70/70 [==============================] - 129s 2s/step - loss: 0.2044 - acc: 0.9185 - val_loss: 0.1489 - val_acc: 0.9425\n",
      "Epoch 22/30\n",
      "70/70 [==============================] - 129s 2s/step - loss: 0.1936 - acc: 0.9235 - val_loss: 0.1526 - val_acc: 0.9417\n",
      "Epoch 23/30\n",
      "70/70 [==============================] - 129s 2s/step - loss: 0.1947 - acc: 0.9235 - val_loss: 0.3340 - val_acc: 0.8792\n",
      "Epoch 24/30\n",
      "70/70 [==============================] - 129s 2s/step - loss: 0.1869 - acc: 0.9244 - val_loss: 0.1329 - val_acc: 0.9546\n",
      "Epoch 25/30\n",
      "70/70 [==============================] - 132s 2s/step - loss: 0.1873 - acc: 0.9295 - val_loss: 0.2440 - val_acc: 0.9038\n",
      "Epoch 26/30\n",
      "70/70 [==============================] - 130s 2s/step - loss: 0.2099 - acc: 0.9202 - val_loss: 0.1743 - val_acc: 0.9392\n",
      "Epoch 27/30\n",
      "70/70 [==============================] - 130s 2s/step - loss: 0.1787 - acc: 0.9315 - val_loss: 0.1125 - val_acc: 0.9592\n",
      "Epoch 28/30\n",
      "70/70 [==============================] - 129s 2s/step - loss: 0.1924 - acc: 0.9307 - val_loss: 0.1149 - val_acc: 0.9604\n",
      "Epoch 29/30\n",
      "70/70 [==============================] - 129s 2s/step - loss: 0.1779 - acc: 0.9301 - val_loss: 0.1268 - val_acc: 0.9542\n",
      "Epoch 30/30\n",
      "70/70 [==============================] - 132s 2s/step - loss: 0.1768 - acc: 0.9378 - val_loss: 0.1570 - val_acc: 0.9463\n"
     ]
    }
   ],
   "source": [
    "history=model.fit(train_gen,steps_per_epoch=70,epochs=30,\n",
    "                  validation_data=valid_gen,validation_steps=50)"
   ]
  },
  {
   "cell_type": "code",
   "execution_count": 9,
   "metadata": {},
   "outputs": [],
   "source": [
    "model.save(\"weights.h5\")"
   ]
  },
  {
   "cell_type": "code",
   "execution_count": 10,
   "metadata": {},
   "outputs": [
    {
     "data": {
      "text/plain": [
       "<Figure size 432x288 with 0 Axes>"
      ]
     },
     "execution_count": 10,
     "metadata": {},
     "output_type": "execute_result"
    },
    {
     "data": {
      "image/png": "[encoded data removed]",
      "text/plain": [
       "<Figure size 432x288 with 1 Axes>"
      ]
     },
     "metadata": {
      "needs_background": "light"
     },
     "output_type": "display_data"
    },
    {
     "data": {
      "image/png": "[encoded data removed]",
      "text/plain": [
       "<Figure size 432x288 with 1 Axes>"
      ]
     },
     "metadata": {
      "needs_background": "light"
     },
     "output_type": "display_data"
    },
    {
     "data": {
      "text/plain": [
       "<Figure size 432x288 with 0 Axes>"
      ]
     },
     "metadata": {},
     "output_type": "display_data"
    }
   ],
   "source": [
    "acc = history.history['acc']\n",
    "val_acc = history.history['val_acc']\n",
    "loss = history.history['loss']\n",
    "val_loss = history.history['val_loss']\n",
    "epochs = range(1, len(acc) + 1)\n",
    "plt.plot(epochs, acc, 'bo', label='Training acc')\n",
    "plt.plot(epochs, val_acc, 'ro', label='Validation acc')\n",
    "plt.title('Training and validation accuracy')\n",
    "plt.legend()\n",
    "plt.figure()\n",
    "\n",
    "plt.plot(epochs, loss, 'bo', label='Training loss')\n",
    "plt.plot(epochs, val_loss, 'ro', label='Validation loss')\n",
    "plt.title('Training and validation loss')\n",
    "plt.legend()\n",
    "plt.figure()"
   ]
  },
  {
   "cell_type": "code",
   "execution_count": null,
   "metadata": {},
   "outputs": [],
   "source": []
  }
 ],
 "metadata": {
  "kernelspec": {
   "display_name": "Python 3.9.7 ('base')",
   "language": "python",
   "name": "python3"
  },
  "language_info": {
   "codemirror_mode": {
    "name": "ipython",
    "version": 3
   },
   "file_extension": ".py",
   "mimetype": "text/x-python",
   "name": "python",
   "nbconvert_exporter": "python",
   "pygments_lexer": "ipython3",
   "version": "3.9.7"
  },
  "orig_nbformat": 4,
  "vscode": {
   "interpreter": {
    "hash": "1159da101d59a96848dc32601de3f259c21d47de38b4507ef69fb4ca246133ab"
   }
  }
 },
 "nbformat": 4,
 "nbformat_minor": 2
}
